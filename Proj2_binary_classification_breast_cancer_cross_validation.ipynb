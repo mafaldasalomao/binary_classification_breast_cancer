{
  "nbformat": 4,
  "nbformat_minor": 0,
  "metadata": {
    "colab": {
      "provenance": [],
      "collapsed_sections": [],
      "authorship_tag": "ABX9TyMaeFLOLCJS1AGfOs3TBJfP",
      "include_colab_link": true
    },
    "kernelspec": {
      "name": "python3",
      "display_name": "Python 3"
    },
    "language_info": {
      "name": "python"
    }
  },
  "cells": [
    {
      "cell_type": "markdown",
      "metadata": {
        "id": "view-in-github",
        "colab_type": "text"
      },
      "source": [
        "<a href=\"https://colab.research.google.com/github/mafaldasalomao/binary_classification_breast_cancer/blob/main/Proj2_binary_classification_breast_cancer_cross_validation.ipynb\" target=\"_parent\"><img src=\"https://colab.research.google.com/assets/colab-badge.svg\" alt=\"Open In Colab\"/></a>"
      ]
    },
    {
      "cell_type": "code",
      "execution_count": null,
      "metadata": {
        "colab": {
          "base_uri": "https://localhost:8080/"
        },
        "id": "9dEj_pcE5PZx",
        "outputId": "36c33878-03ba-4c28-9086-0b39d2a6b4fb"
      },
      "outputs": [
        {
          "output_type": "stream",
          "name": "stdout",
          "text": [
            "Looking in indexes: https://pypi.org/simple, https://us-python.pkg.dev/colab-wheels/public/simple/\n",
            "Collecting skorch\n",
            "  Downloading skorch-0.12.0-py3-none-any.whl (185 kB)\n",
            "\u001b[K     |████████████████████████████████| 185 kB 5.2 MB/s \n",
            "\u001b[?25hRequirement already satisfied: scipy>=1.1.0 in /usr/local/lib/python3.7/dist-packages (from skorch) (1.7.3)\n",
            "Requirement already satisfied: scikit-learn>=0.22.0 in /usr/local/lib/python3.7/dist-packages (from skorch) (1.0.2)\n",
            "Requirement already satisfied: numpy>=1.13.3 in /usr/local/lib/python3.7/dist-packages (from skorch) (1.21.6)\n",
            "Requirement already satisfied: tqdm>=4.14.0 in /usr/local/lib/python3.7/dist-packages (from skorch) (4.64.1)\n",
            "Requirement already satisfied: tabulate>=0.7.7 in /usr/local/lib/python3.7/dist-packages (from skorch) (0.8.10)\n",
            "Requirement already satisfied: joblib>=0.11 in /usr/local/lib/python3.7/dist-packages (from scikit-learn>=0.22.0->skorch) (1.2.0)\n",
            "Requirement already satisfied: threadpoolctl>=2.0.0 in /usr/local/lib/python3.7/dist-packages (from scikit-learn>=0.22.0->skorch) (3.1.0)\n",
            "Installing collected packages: skorch\n",
            "Successfully installed skorch-0.12.0\n"
          ]
        }
      ],
      "source": [
        "!pip install skorch"
      ]
    },
    {
      "cell_type": "markdown",
      "source": [
        "## 1- Import libs"
      ],
      "metadata": {
        "id": "tH5_z8zE5WyZ"
      }
    },
    {
      "cell_type": "code",
      "source": [
        "import pandas as pd\n",
        "import numpy as np\n",
        "import torch\n",
        "import torch.nn as nn\n",
        "from skorch import NeuralNetBinaryClassifier\n",
        "from sklearn.model_selection import cross_val_score\n",
        "import seaborn as sns\n",
        "import sklearn\n",
        "\n",
        "torch.__version__"
      ],
      "metadata": {
        "colab": {
          "base_uri": "https://localhost:8080/",
          "height": 36
        },
        "id": "lrK1EiDl5Za-",
        "outputId": "ce7f7ab8-dc14-48d1-a5ab-776236584051"
      },
      "execution_count": null,
      "outputs": [
        {
          "output_type": "execute_result",
          "data": {
            "text/plain": [
              "'1.12.1+cu113'"
            ],
            "application/vnd.google.colaboratory.intrinsic+json": {
              "type": "string"
            }
          },
          "metadata": {},
          "execution_count": 11
        }
      ]
    },
    {
      "cell_type": "markdown",
      "source": [
        "## 2 - Base de dados"
      ],
      "metadata": {
        "id": "qDc70NFR516s"
      }
    },
    {
      "cell_type": "code",
      "source": [
        "np.random.seed(42)\n",
        "torch.manual_seed(42)"
      ],
      "metadata": {
        "colab": {
          "base_uri": "https://localhost:8080/"
        },
        "id": "XDdsQ2-k54CZ",
        "outputId": "462fe453-7174-4b45-dca2-df8700ec2a87"
      },
      "execution_count": null,
      "outputs": [
        {
          "output_type": "execute_result",
          "data": {
            "text/plain": [
              "<torch._C.Generator at 0x7ff228643d50>"
            ]
          },
          "metadata": {},
          "execution_count": 7
        }
      ]
    },
    {
      "cell_type": "code",
      "source": [
        "previsores = pd.read_csv('/content/entradas_breast.csv')\n",
        "classes = pd.read_csv('/content/saidas_breast.csv')"
      ],
      "metadata": {
        "id": "1LfQi9RG6JuU"
      },
      "execution_count": null,
      "outputs": []
    },
    {
      "cell_type": "code",
      "source": [
        "sns.countplot(classes['0'])"
      ],
      "metadata": {
        "colab": {
          "base_uri": "https://localhost:8080/",
          "height": 351
        },
        "id": "hVJRys3O6YXw",
        "outputId": "7168d6e5-2c58-436b-ac5f-f61541df490d"
      },
      "execution_count": null,
      "outputs": [
        {
          "output_type": "stream",
          "name": "stderr",
          "text": [
            "/usr/local/lib/python3.7/dist-packages/seaborn/_decorators.py:43: FutureWarning: Pass the following variable as a keyword arg: x. From version 0.12, the only valid positional argument will be `data`, and passing other arguments without an explicit keyword will result in an error or misinterpretation.\n",
            "  FutureWarning\n"
          ]
        },
        {
          "output_type": "execute_result",
          "data": {
            "text/plain": [
              "<matplotlib.axes._subplots.AxesSubplot at 0x7ff215689650>"
            ]
          },
          "metadata": {},
          "execution_count": 13
        },
        {
          "output_type": "display_data",
          "data": {
            "text/plain": [
              "<Figure size 432x288 with 1 Axes>"
            ],
            "image/png": "[encoded data removed]"
          },
          "metadata": {
            "needs_background": "light"
          }
        }
      ]
    },
    {
      "cell_type": "code",
      "source": [
        "previsores = np.array(previsores, dtype='float32')\n",
        "classe = np.array(classes, dtype='float32').squeeze(1)\n",
        "\n",
        "classe.shape"
      ],
      "metadata": {
        "colab": {
          "base_uri": "https://localhost:8080/"
        },
        "id": "DsMYuAm-6kn0",
        "outputId": "cc09d0c2-fe50-4d0e-c1b8-8a6f8939ec3c"
      },
      "execution_count": null,
      "outputs": [
        {
          "output_type": "execute_result",
          "data": {
            "text/plain": [
              "(569,)"
            ]
          },
          "metadata": {},
          "execution_count": 24
        }
      ]
    },
    {
      "cell_type": "markdown",
      "source": [
        "## 3 - Define class to NN"
      ],
      "metadata": {
        "id": "0U-x4kKK7B9C"
      }
    },
    {
      "cell_type": "code",
      "source": [
        "class model_torch(nn.Module):\n",
        "  def __init__(self):\n",
        "    super().__init__()\n",
        "\n",
        "    #create layers 30-> 16->16->1\n",
        "    self.dense0 = nn.Linear(30, 16)\n",
        "    #we need start weights\n",
        "    torch.nn.init.uniform_(self.dense0.weight) #start weight uniform math\n",
        "    self.activation0 = nn.ReLU() # actvation\n",
        "    self.dense1 = nn.Linear(16,16)\n",
        "    torch.nn.init.uniform_(self.dense1.weight)\n",
        "    self.activation1 = nn.ReLU()\n",
        "    self.dense2 = nn.Linear(16, 1)\n",
        "    torch.nn.init.uniform_(self.dense2.weight)\n",
        "    self.output = nn.Sigmoid()\n",
        "  \n",
        "\n",
        "  #link the layers\n",
        "  def forward(self, x):\n",
        "    x = self.dense0(x)\n",
        "    x = self.activation0(x)\n",
        "    x = self.dense1(x)\n",
        "    x = self.activation1(x)\n",
        "    x = self.dense2(x)\n",
        "    x = self.output(x)\n",
        "    return x\n",
        "  "
      ],
      "metadata": {
        "id": "mERKHMfE7EfX"
      },
      "execution_count": null,
      "outputs": []
    },
    {
      "cell_type": "markdown",
      "source": [
        "## 4 - skorch"
      ],
      "metadata": {
        "id": "Y7q5134VHo3s"
      }
    },
    {
      "cell_type": "code",
      "source": [
        "from torch.optim import optimizer\n",
        "model_sklearn = NeuralNetBinaryClassifier(module=model_torch,\n",
        "                                  criterion=torch.nn.BCELoss,\n",
        "                                  optimizer = torch.optim.Adam,\n",
        "                                  lr = 0.001,\n",
        "                                  optimizer_weight_decay=0.0001,\n",
        "                                  max_epochs=100,\n",
        "                                  batch_size=32,\n",
        "                                  train_split=False)"
      ],
      "metadata": {
        "id": "dxC1NguGHsHA"
      },
      "execution_count": null,
      "outputs": []
    },
    {
      "cell_type": "markdown",
      "source": [
        "## 5 - Cross val"
      ],
      "metadata": {
        "id": "fhOmLVI6Io9P"
      }
    },
    {
      "cell_type": "code",
      "source": [
        "\n",
        "results = cross_val_score(model_sklearn, previsores, classe, cv=10, scoring='accuracy');"
      ],
      "metadata": {
        "colab": {
          "base_uri": "https://localhost:8080/"
        },
        "id": "kIKTiH-cI0mc",
        "outputId": "b9411cd7-62fa-4375-ba4d-3d8ebbfc31e5"
      },
      "execution_count": null,
      "outputs": [
        {
          "output_type": "stream",
          "name": "stderr",
          "text": [
            "/usr/local/lib/python3.7/dist-packages/sklearn/model_selection/_validation.py:372: FitFailedWarning: \n",
            "10 fits failed out of a total of 10.\n",
            "The score on these train-test partitions for these parameters will be set to nan.\n",
            "If these failures are not expected, you can try to debug them by setting error_score='raise'.\n",
            "\n",
            "Below are more details about the failures:\n",
            "--------------------------------------------------------------------------------\n",
            "10 fits failed with the following error:\n",
            "Traceback (most recent call last):\n",
            "  File \"/usr/local/lib/python3.7/dist-packages/sklearn/model_selection/_validation.py\", line 680, in _fit_and_score\n",
            "    estimator.fit(X_train, y_train, **fit_params)\n",
            "  File \"/usr/local/lib/python3.7/dist-packages/skorch/classifier.py\", line 324, in fit\n",
            "    return super().fit(X, y, **fit_params)\n",
            "  File \"/usr/local/lib/python3.7/dist-packages/skorch/net.py\", line 1228, in fit\n",
            "    self.initialize()\n",
            "  File \"/usr/local/lib/python3.7/dist-packages/skorch/net.py\", line 820, in initialize\n",
            "    self._validate_params()\n",
            "  File \"/usr/local/lib/python3.7/dist-packages/skorch/net.py\", line 1960, in _validate_params\n",
            "    raise ValueError(full_msg)\n",
            "ValueError: Got an unexpected argument optimizer_weight_decay, did you mean optimizer__weight_decay?\n",
            "\n",
            "  warnings.warn(some_fits_failed_message, FitFailedWarning)\n"
          ]
        }
      ]
    },
    {
      "cell_type": "code",
      "source": [
        "class model_torch(nn.Module):\n",
        "  def __init__(self):\n",
        "    super().__init__()\n",
        "\n",
        "    #create layers 30-> 16->16->1\n",
        "    self.dense0 = nn.Linear(30, 16)\n",
        "    #we need start weights\n",
        "    torch.nn.init.uniform_(self.dense0.weight) #start weight uniform math\n",
        "    self.activation0 = nn.ReLU() # actvation\n",
        "    self.dropout0 = nn.Dropout(0.2) #sero 20% of neurons\n",
        "    self.dense1 = nn.Linear(16,16)\n",
        "    torch.nn.init.uniform_(self.dense1.weight)\n",
        "    self.activation1 = nn.ReLU()\n",
        "    self.dropout1 = nn.Dropout(0.2)\n",
        "    self.dense2 = nn.Linear(16, 1)\n",
        "    torch.nn.init.uniform_(self.dense2.weight)\n",
        "    self.output = nn.Sigmoid()\n",
        "  \n",
        "\n",
        "  #link the layers\n",
        "  def forward(self, x):\n",
        "    x = self.dense0(x)\n",
        "    x = self.activation0(x)\n",
        "    x = self.dropout0(x)\n",
        "    x = self.dense1(x)\n",
        "    x = self.activation1(x)\n",
        "    x = self.dropout1(x)\n",
        "    x = self.dense2(x)\n",
        "    x = self.output(x)\n",
        "    return x"
      ],
      "metadata": {
        "id": "Zl8m7oqDKE_5"
      },
      "execution_count": null,
      "outputs": []
    }
  ]
}