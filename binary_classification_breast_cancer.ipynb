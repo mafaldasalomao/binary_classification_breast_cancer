{
  "nbformat": 4,
  "nbformat_minor": 0,
  "metadata": {
    "colab": {
      "provenance": [],
      "collapsed_sections": [],
      "authorship_tag": "ABX9TyNkh/ynFPZJ64c/ualYqF2G",
      "include_colab_link": true
    },
    "kernelspec": {
      "name": "python3",
      "display_name": "Python 3"
    },
    "language_info": {
      "name": "python"
    },
    "accelerator": "GPU"
  },
  "cells": [
    {
      "cell_type": "markdown",
      "metadata": {
        "id": "view-in-github",
        "colab_type": "text"
      },
      "source": [
        "<a href=\"https://colab.research.google.com/github/mafaldasalomao/binary_classification_breast_cancer/blob/main/binary_classification_breast_cancer.ipynb\" target=\"_parent\"><img src=\"https://colab.research.google.com/assets/colab-badge.svg\" alt=\"Open In Colab\"/></a>"
      ]
    },
    {
      "cell_type": "markdown",
      "source": [
        "## 1 - Importing libs"
      ],
      "metadata": {
        "id": "t8Tj6hlerJ0w"
      }
    },
    {
      "cell_type": "code",
      "execution_count": 3,
      "metadata": {
        "id": "BtnyQnDlqkBM"
      },
      "outputs": [],
      "source": [
        "import pandas as pd\n",
        "from sklearn.model_selection import train_test_split\n",
        "import numpy as np\n",
        "import seaborn as sns\n",
        "from sklearn.metrics import confusion_matrix, accuracy_score"
      ]
    },
    {
      "cell_type": "code",
      "source": [
        "import torch\n",
        "torch.__version__"
      ],
      "metadata": {
        "colab": {
          "base_uri": "https://localhost:8080/",
          "height": 36
        },
        "id": "bWZnRZLgrAF5",
        "outputId": "ac344b36-c08c-4020-9d47-f298f098d379"
      },
      "execution_count": 1,
      "outputs": [
        {
          "output_type": "execute_result",
          "data": {
            "text/plain": [
              "'1.12.1+cu113'"
            ],
            "application/vnd.google.colaboratory.intrinsic+json": {
              "type": "string"
            }
          },
          "metadata": {},
          "execution_count": 1
        }
      ]
    },
    {
      "cell_type": "code",
      "source": [
        "import torch.nn as nn"
      ],
      "metadata": {
        "id": "EQGJDBAarIhq"
      },
      "execution_count": 4,
      "outputs": []
    },
    {
      "cell_type": "markdown",
      "source": [
        "## 2 - Load database"
      ],
      "metadata": {
        "id": "wGph5Z_xre7W"
      }
    },
    {
      "cell_type": "code",
      "source": [
        "np.random.seed(42) # to reprocibility\n",
        "torch.manual_seed(42)"
      ],
      "metadata": {
        "id": "hUG1mG3Grhne"
      },
      "execution_count": null,
      "outputs": []
    },
    {
      "cell_type": "code",
      "source": [
        "previsores = pd.read_csv('/content/entradas_breast.csv')\n",
        "classe = pd.read_csv('/content/saidas_breast.csv')"
      ],
      "metadata": {
        "id": "hB99E4ISruiB"
      },
      "execution_count": 6,
      "outputs": []
    },
    {
      "cell_type": "code",
      "source": [
        "previsores.shape, classe.shape\n"
      ],
      "metadata": {
        "colab": {
          "base_uri": "https://localhost:8080/"
        },
        "id": "B9VpD3nfsUs2",
        "outputId": "8048950e-e517-45bc-db80-7addca0fd0cf"
      },
      "execution_count": 8,
      "outputs": [
        {
          "output_type": "execute_result",
          "data": {
            "text/plain": [
              "((569, 30), (569, 1))"
            ]
          },
          "metadata": {},
          "execution_count": 8
        }
      ]
    },
    {
      "cell_type": "code",
      "source": [
        "previsores.head()"
      ],
      "metadata": {
        "colab": {
          "base_uri": "https://localhost:8080/",
          "height": 299
        },
        "id": "WsCoelbQsZWs",
        "outputId": "e6b729d8-4613-4096-f3af-1557ead219b7"
      },
      "execution_count": 9,
      "outputs": [
        {
          "output_type": "execute_result",
          "data": {
            "text/plain": [
              "    radius_mean   texture_mean   perimeter_mean   area_mean   smoothness_mean  \\\n",
              "0         17.99          10.38           122.80      1001.0           0.11840   \n",
              "1         20.57          17.77           132.90      1326.0           0.08474   \n",
              "2         19.69          21.25           130.00      1203.0           0.10960   \n",
              "3         11.42          20.38            77.58       386.1           0.14250   \n",
              "4         20.29          14.34           135.10      1297.0           0.10030   \n",
              "\n",
              "    compactness_mean   concavity_mean  concave_points_mean   symmetry_mean  \\\n",
              "0            0.27760           0.3001              0.14710          0.2419   \n",
              "1            0.07864           0.0869              0.07017          0.1812   \n",
              "2            0.15990           0.1974              0.12790          0.2069   \n",
              "3            0.28390           0.2414              0.10520          0.2597   \n",
              "4            0.13280         198.0000              0.10430          0.1809   \n",
              "\n",
              "    fractal_dimension_mean  ...   radius_worst   texture_worst  \\\n",
              "0                  0.07871  ...          25.38           17.33   \n",
              "1                  0.05667  ...          24.99           23.41   \n",
              "2                  0.05999  ...          23.57           25.53   \n",
              "3                  0.09744  ...          14.91           26.50   \n",
              "4                  0.05883  ...          22.54           16.67   \n",
              "\n",
              "    perimeter_worst   area_worst   smoothness_worst   compactness_worst  \\\n",
              "0            184.60       2019.0             0.1622              0.6656   \n",
              "1            158.80       1956.0             0.1238              0.1866   \n",
              "2            152.50       1709.0             0.1444              0.4245   \n",
              "3             98.87        567.7             0.2098              0.8663   \n",
              "4            152.20       1575.0             0.1374            205.0000   \n",
              "\n",
              "    concavity_worst   concave_points_worst   symmetry_worst  \\\n",
              "0            0.7119                 0.2654           0.4601   \n",
              "1            0.2416               186.0000         275.0000   \n",
              "2            0.4504               243.0000           0.3613   \n",
              "3            0.6869                 0.2575           0.6638   \n",
              "4            0.4000                 0.1625           0.2364   \n",
              "\n",
              "    fractal_dimension_worst  \n",
              "0                   0.11890  \n",
              "1                   0.08902  \n",
              "2                   0.08758  \n",
              "3                 173.00000  \n",
              "4                   0.07678  \n",
              "\n",
              "[5 rows x 30 columns]"
            ],
            "text/html": [
              "\n",
              "  <div id=\"df-c8079edf-f070-4010-ad57-545606284a46\">\n",
              "    <div class=\"colab-df-container\">\n",
              "      <div>\n",
              "<style scoped>\n",
              "    .dataframe tbody tr th:only-of-type {\n",
              "        vertical-align: middle;\n",
              "    }\n",
              "\n",
              "    .dataframe tbody tr th {\n",
              "        vertical-align: top;\n",
              "    }\n",
              "\n",
              "    .dataframe thead th {\n",
              "        text-align: right;\n",
              "    }\n",
              "</style>\n",
              "<table border=\"1\" class=\"dataframe\">\n",
              "  <thead>\n",
              "    <tr style=\"text-align: right;\">\n",
              "      <th></th>\n",
              "      <th>radius_mean</th>\n",
              "      <th>texture_mean</th>\n",
              "      <th>perimeter_mean</th>\n",
              "      <th>area_mean</th>\n",
              "      <th>smoothness_mean</th>\n",
              "      <th>compactness_mean</th>\n",
              "      <th>concavity_mean</th>\n",
              "      <th>concave_points_mean</th>\n",
              "      <th>symmetry_mean</th>\n",
              "      <th>fractal_dimension_mean</th>\n",
              "      <th>...</th>\n",
              "      <th>radius_worst</th>\n",
              "      <th>texture_worst</th>\n",
              "      <th>perimeter_worst</th>\n",
              "      <th>area_worst</th>\n",
              "      <th>smoothness_worst</th>\n",
              "      <th>compactness_worst</th>\n",
              "      <th>concavity_worst</th>\n",
              "      <th>concave_points_worst</th>\n",
              "      <th>symmetry_worst</th>\n",
              "      <th>fractal_dimension_worst</th>\n",
              "    </tr>\n",
              "  </thead>\n",
              "  <tbody>\n",
              "    <tr>\n",
              "      <th>0</th>\n",
              "      <td>17.99</td>\n",
              "      <td>10.38</td>\n",
              "      <td>122.80</td>\n",
              "      <td>1001.0</td>\n",
              "      <td>0.11840</td>\n",
              "      <td>0.27760</td>\n",
              "      <td>0.3001</td>\n",
              "      <td>0.14710</td>\n",
              "      <td>0.2419</td>\n",
              "      <td>0.07871</td>\n",
              "      <td>...</td>\n",
              "      <td>25.38</td>\n",
              "      <td>17.33</td>\n",
              "      <td>184.60</td>\n",
              "      <td>2019.0</td>\n",
              "      <td>0.1622</td>\n",
              "      <td>0.6656</td>\n",
              "      <td>0.7119</td>\n",
              "      <td>0.2654</td>\n",
              "      <td>0.4601</td>\n",
              "      <td>0.11890</td>\n",
              "    </tr>\n",
              "    <tr>\n",
              "      <th>1</th>\n",
              "      <td>20.57</td>\n",
              "      <td>17.77</td>\n",
              "      <td>132.90</td>\n",
              "      <td>1326.0</td>\n",
              "      <td>0.08474</td>\n",
              "      <td>0.07864</td>\n",
              "      <td>0.0869</td>\n",
              "      <td>0.07017</td>\n",
              "      <td>0.1812</td>\n",
              "      <td>0.05667</td>\n",
              "      <td>...</td>\n",
              "      <td>24.99</td>\n",
              "      <td>23.41</td>\n",
              "      <td>158.80</td>\n",
              "      <td>1956.0</td>\n",
              "      <td>0.1238</td>\n",
              "      <td>0.1866</td>\n",
              "      <td>0.2416</td>\n",
              "      <td>186.0000</td>\n",
              "      <td>275.0000</td>\n",
              "      <td>0.08902</td>\n",
              "    </tr>\n",
              "    <tr>\n",
              "      <th>2</th>\n",
              "      <td>19.69</td>\n",
              "      <td>21.25</td>\n",
              "      <td>130.00</td>\n",
              "      <td>1203.0</td>\n",
              "      <td>0.10960</td>\n",
              "      <td>0.15990</td>\n",
              "      <td>0.1974</td>\n",
              "      <td>0.12790</td>\n",
              "      <td>0.2069</td>\n",
              "      <td>0.05999</td>\n",
              "      <td>...</td>\n",
              "      <td>23.57</td>\n",
              "      <td>25.53</td>\n",
              "      <td>152.50</td>\n",
              "      <td>1709.0</td>\n",
              "      <td>0.1444</td>\n",
              "      <td>0.4245</td>\n",
              "      <td>0.4504</td>\n",
              "      <td>243.0000</td>\n",
              "      <td>0.3613</td>\n",
              "      <td>0.08758</td>\n",
              "    </tr>\n",
              "    <tr>\n",
              "      <th>3</th>\n",
              "      <td>11.42</td>\n",
              "      <td>20.38</td>\n",
              "      <td>77.58</td>\n",
              "      <td>386.1</td>\n",
              "      <td>0.14250</td>\n",
              "      <td>0.28390</td>\n",
              "      <td>0.2414</td>\n",
              "      <td>0.10520</td>\n",
              "      <td>0.2597</td>\n",
              "      <td>0.09744</td>\n",
              "      <td>...</td>\n",
              "      <td>14.91</td>\n",
              "      <td>26.50</td>\n",
              "      <td>98.87</td>\n",
              "      <td>567.7</td>\n",
              "      <td>0.2098</td>\n",
              "      <td>0.8663</td>\n",
              "      <td>0.6869</td>\n",
              "      <td>0.2575</td>\n",
              "      <td>0.6638</td>\n",
              "      <td>173.00000</td>\n",
              "    </tr>\n",
              "    <tr>\n",
              "      <th>4</th>\n",
              "      <td>20.29</td>\n",
              "      <td>14.34</td>\n",
              "      <td>135.10</td>\n",
              "      <td>1297.0</td>\n",
              "      <td>0.10030</td>\n",
              "      <td>0.13280</td>\n",
              "      <td>198.0000</td>\n",
              "      <td>0.10430</td>\n",
              "      <td>0.1809</td>\n",
              "      <td>0.05883</td>\n",
              "      <td>...</td>\n",
              "      <td>22.54</td>\n",
              "      <td>16.67</td>\n",
              "      <td>152.20</td>\n",
              "      <td>1575.0</td>\n",
              "      <td>0.1374</td>\n",
              "      <td>205.0000</td>\n",
              "      <td>0.4000</td>\n",
              "      <td>0.1625</td>\n",
              "      <td>0.2364</td>\n",
              "      <td>0.07678</td>\n",
              "    </tr>\n",
              "  </tbody>\n",
              "</table>\n",
              "<p>5 rows × 30 columns</p>\n",
              "</div>\n",
              "      <button class=\"colab-df-convert\" onclick=\"convertToInteractive('df-c8079edf-f070-4010-ad57-545606284a46')\"\n",
              "              title=\"Convert this dataframe to an interactive table.\"\n",
              "              style=\"display:none;\">\n",
              "        \n",
              "  <svg xmlns=\"http://www.w3.org/2000/svg\" height=\"24px\"viewBox=\"0 0 24 24\"\n",
              "       width=\"24px\">\n",
              "    <path d=\"M0 0h24v24H0V0z\" fill=\"none\"/>\n",
              "    <path d=\"M18.56 5.44l.94 2.06.94-2.06 2.06-.94-2.06-.94-.94-2.06-.94 2.06-2.06.94zm-11 1L8.5 8.5l.94-2.06 2.06-.94-2.06-.94L8.5 2.5l-.94 2.06-2.06.94zm10 10l.94 2.06.94-2.06 2.06-.94-2.06-.94-.94-2.06-.94 2.06-2.06.94z\"/><path d=\"M17.41 7.96l-1.37-1.37c-.4-.4-.92-.59-1.43-.59-.52 0-1.04.2-1.43.59L10.3 9.45l-7.72 7.72c-.78.78-.78 2.05 0 2.83L4 21.41c.39.39.9.59 1.41.59.51 0 1.02-.2 1.41-.59l7.78-7.78 2.81-2.81c.8-.78.8-2.07 0-2.86zM5.41 20L4 18.59l7.72-7.72 1.47 1.35L5.41 20z\"/>\n",
              "  </svg>\n",
              "      </button>\n",
              "      \n",
              "  <style>\n",
              "    .colab-df-container {\n",
              "      display:flex;\n",
              "      flex-wrap:wrap;\n",
              "      gap: 12px;\n",
              "    }\n",
              "\n",
              "    .colab-df-convert {\n",
              "      background-color: #E8F0FE;\n",
              "      border: none;\n",
              "      border-radius: 50%;\n",
              "      cursor: pointer;\n",
              "      display: none;\n",
              "      fill: #1967D2;\n",
              "      height: 32px;\n",
              "      padding: 0 0 0 0;\n",
              "      width: 32px;\n",
              "    }\n",
              "\n",
              "    .colab-df-convert:hover {\n",
              "      background-color: #E2EBFA;\n",
              "      box-shadow: 0px 1px 2px rgba(60, 64, 67, 0.3), 0px 1px 3px 1px rgba(60, 64, 67, 0.15);\n",
              "      fill: #174EA6;\n",
              "    }\n",
              "\n",
              "    [theme=dark] .colab-df-convert {\n",
              "      background-color: #3B4455;\n",
              "      fill: #D2E3FC;\n",
              "    }\n",
              "\n",
              "    [theme=dark] .colab-df-convert:hover {\n",
              "      background-color: #434B5C;\n",
              "      box-shadow: 0px 1px 3px 1px rgba(0, 0, 0, 0.15);\n",
              "      filter: drop-shadow(0px 1px 2px rgba(0, 0, 0, 0.3));\n",
              "      fill: #FFFFFF;\n",
              "    }\n",
              "  </style>\n",
              "\n",
              "      <script>\n",
              "        const buttonEl =\n",
              "          document.querySelector('#df-c8079edf-f070-4010-ad57-545606284a46 button.colab-df-convert');\n",
              "        buttonEl.style.display =\n",
              "          google.colab.kernel.accessAllowed ? 'block' : 'none';\n",
              "\n",
              "        async function convertToInteractive(key) {\n",
              "          const element = document.querySelector('#df-c8079edf-f070-4010-ad57-545606284a46');\n",
              "          const dataTable =\n",
              "            await google.colab.kernel.invokeFunction('convertToInteractive',\n",
              "                                                     [key], {});\n",
              "          if (!dataTable) return;\n",
              "\n",
              "          const docLinkHtml = 'Like what you see? Visit the ' +\n",
              "            '<a target=\"_blank\" href=https://colab.research.google.com/notebooks/data_table.ipynb>data table notebook</a>'\n",
              "            + ' to learn more about interactive tables.';\n",
              "          element.innerHTML = '';\n",
              "          dataTable['output_type'] = 'display_data';\n",
              "          await google.colab.output.renderOutput(dataTable, element);\n",
              "          const docLink = document.createElement('div');\n",
              "          docLink.innerHTML = docLinkHtml;\n",
              "          element.appendChild(docLink);\n",
              "        }\n",
              "      </script>\n",
              "    </div>\n",
              "  </div>\n",
              "  "
            ]
          },
          "metadata": {},
          "execution_count": 9
        }
      ]
    },
    {
      "cell_type": "code",
      "source": [
        "classe.head()"
      ],
      "metadata": {
        "colab": {
          "base_uri": "https://localhost:8080/",
          "height": 206
        },
        "id": "-pL5B1Q_sbru",
        "outputId": "3f9440fb-5716-460b-e02a-534d01d7a04f"
      },
      "execution_count": 10,
      "outputs": [
        {
          "output_type": "execute_result",
          "data": {
            "text/plain": [
              "   0\n",
              "0  0\n",
              "1  0\n",
              "2  0\n",
              "3  0\n",
              "4  0"
            ],
            "text/html": [
              "\n",
              "  <div id=\"df-9ad588d3-a2c7-4e0d-98bb-7b74e787d32c\">\n",
              "    <div class=\"colab-df-container\">\n",
              "      <div>\n",
              "<style scoped>\n",
              "    .dataframe tbody tr th:only-of-type {\n",
              "        vertical-align: middle;\n",
              "    }\n",
              "\n",
              "    .dataframe tbody tr th {\n",
              "        vertical-align: top;\n",
              "    }\n",
              "\n",
              "    .dataframe thead th {\n",
              "        text-align: right;\n",
              "    }\n",
              "</style>\n",
              "<table border=\"1\" class=\"dataframe\">\n",
              "  <thead>\n",
              "    <tr style=\"text-align: right;\">\n",
              "      <th></th>\n",
              "      <th>0</th>\n",
              "    </tr>\n",
              "  </thead>\n",
              "  <tbody>\n",
              "    <tr>\n",
              "      <th>0</th>\n",
              "      <td>0</td>\n",
              "    </tr>\n",
              "    <tr>\n",
              "      <th>1</th>\n",
              "      <td>0</td>\n",
              "    </tr>\n",
              "    <tr>\n",
              "      <th>2</th>\n",
              "      <td>0</td>\n",
              "    </tr>\n",
              "    <tr>\n",
              "      <th>3</th>\n",
              "      <td>0</td>\n",
              "    </tr>\n",
              "    <tr>\n",
              "      <th>4</th>\n",
              "      <td>0</td>\n",
              "    </tr>\n",
              "  </tbody>\n",
              "</table>\n",
              "</div>\n",
              "      <button class=\"colab-df-convert\" onclick=\"convertToInteractive('df-9ad588d3-a2c7-4e0d-98bb-7b74e787d32c')\"\n",
              "              title=\"Convert this dataframe to an interactive table.\"\n",
              "              style=\"display:none;\">\n",
              "        \n",
              "  <svg xmlns=\"http://www.w3.org/2000/svg\" height=\"24px\"viewBox=\"0 0 24 24\"\n",
              "       width=\"24px\">\n",
              "    <path d=\"M0 0h24v24H0V0z\" fill=\"none\"/>\n",
              "    <path d=\"M18.56 5.44l.94 2.06.94-2.06 2.06-.94-2.06-.94-.94-2.06-.94 2.06-2.06.94zm-11 1L8.5 8.5l.94-2.06 2.06-.94-2.06-.94L8.5 2.5l-.94 2.06-2.06.94zm10 10l.94 2.06.94-2.06 2.06-.94-2.06-.94-.94-2.06-.94 2.06-2.06.94z\"/><path d=\"M17.41 7.96l-1.37-1.37c-.4-.4-.92-.59-1.43-.59-.52 0-1.04.2-1.43.59L10.3 9.45l-7.72 7.72c-.78.78-.78 2.05 0 2.83L4 21.41c.39.39.9.59 1.41.59.51 0 1.02-.2 1.41-.59l7.78-7.78 2.81-2.81c.8-.78.8-2.07 0-2.86zM5.41 20L4 18.59l7.72-7.72 1.47 1.35L5.41 20z\"/>\n",
              "  </svg>\n",
              "      </button>\n",
              "      \n",
              "  <style>\n",
              "    .colab-df-container {\n",
              "      display:flex;\n",
              "      flex-wrap:wrap;\n",
              "      gap: 12px;\n",
              "    }\n",
              "\n",
              "    .colab-df-convert {\n",
              "      background-color: #E8F0FE;\n",
              "      border: none;\n",
              "      border-radius: 50%;\n",
              "      cursor: pointer;\n",
              "      display: none;\n",
              "      fill: #1967D2;\n",
              "      height: 32px;\n",
              "      padding: 0 0 0 0;\n",
              "      width: 32px;\n",
              "    }\n",
              "\n",
              "    .colab-df-convert:hover {\n",
              "      background-color: #E2EBFA;\n",
              "      box-shadow: 0px 1px 2px rgba(60, 64, 67, 0.3), 0px 1px 3px 1px rgba(60, 64, 67, 0.15);\n",
              "      fill: #174EA6;\n",
              "    }\n",
              "\n",
              "    [theme=dark] .colab-df-convert {\n",
              "      background-color: #3B4455;\n",
              "      fill: #D2E3FC;\n",
              "    }\n",
              "\n",
              "    [theme=dark] .colab-df-convert:hover {\n",
              "      background-color: #434B5C;\n",
              "      box-shadow: 0px 1px 3px 1px rgba(0, 0, 0, 0.15);\n",
              "      filter: drop-shadow(0px 1px 2px rgba(0, 0, 0, 0.3));\n",
              "      fill: #FFFFFF;\n",
              "    }\n",
              "  </style>\n",
              "\n",
              "      <script>\n",
              "        const buttonEl =\n",
              "          document.querySelector('#df-9ad588d3-a2c7-4e0d-98bb-7b74e787d32c button.colab-df-convert');\n",
              "        buttonEl.style.display =\n",
              "          google.colab.kernel.accessAllowed ? 'block' : 'none';\n",
              "\n",
              "        async function convertToInteractive(key) {\n",
              "          const element = document.querySelector('#df-9ad588d3-a2c7-4e0d-98bb-7b74e787d32c');\n",
              "          const dataTable =\n",
              "            await google.colab.kernel.invokeFunction('convertToInteractive',\n",
              "                                                     [key], {});\n",
              "          if (!dataTable) return;\n",
              "\n",
              "          const docLinkHtml = 'Like what you see? Visit the ' +\n",
              "            '<a target=\"_blank\" href=https://colab.research.google.com/notebooks/data_table.ipynb>data table notebook</a>'\n",
              "            + ' to learn more about interactive tables.';\n",
              "          element.innerHTML = '';\n",
              "          dataTable['output_type'] = 'display_data';\n",
              "          await google.colab.output.renderOutput(dataTable, element);\n",
              "          const docLink = document.createElement('div');\n",
              "          docLink.innerHTML = docLinkHtml;\n",
              "          element.appendChild(docLink);\n",
              "        }\n",
              "      </script>\n",
              "    </div>\n",
              "  </div>\n",
              "  "
            ]
          },
          "metadata": {},
          "execution_count": 10
        }
      ]
    },
    {
      "cell_type": "code",
      "source": [
        "np.unique(classe)"
      ],
      "metadata": {
        "colab": {
          "base_uri": "https://localhost:8080/"
        },
        "id": "0-nZ8YEKsfqj",
        "outputId": "40d584e5-ab3d-4276-fb9d-30446eb2a3e0"
      },
      "execution_count": 12,
      "outputs": [
        {
          "output_type": "execute_result",
          "data": {
            "text/plain": [
              "array([0, 1])"
            ]
          },
          "metadata": {},
          "execution_count": 12
        }
      ]
    },
    {
      "cell_type": "code",
      "source": [
        "sns.countplot(classe['0']);"
      ],
      "metadata": {
        "colab": {
          "base_uri": "https://localhost:8080/",
          "height": 334
        },
        "id": "vZquhO7Usk-f",
        "outputId": "1c1bb0f0-3f3e-4b93-821b-90054d41a620"
      },
      "execution_count": 14,
      "outputs": [
        {
          "output_type": "stream",
          "name": "stderr",
          "text": [
            "/usr/local/lib/python3.7/dist-packages/seaborn/_decorators.py:43: FutureWarning: Pass the following variable as a keyword arg: x. From version 0.12, the only valid positional argument will be `data`, and passing other arguments without an explicit keyword will result in an error or misinterpretation.\n",
            "  FutureWarning\n"
          ]
        },
        {
          "output_type": "display_data",
          "data": {
            "text/plain": [
              "<Figure size 432x288 with 1 Axes>"
            ],
            "image/png": "[encoded data removed]"
          },
          "metadata": {
            "needs_background": "light"
          }
        }
      ]
    },
    {
      "cell_type": "code",
      "source": [
        "##split data\n",
        "prev_train, prev_test, classe_train, classe_test = train_test_split(previsores,\n",
        "                                                                    classe,\n",
        "                                                                    test_size=0.2)"
      ],
      "metadata": {
        "id": "skglUrvrstVz"
      },
      "execution_count": 15,
      "outputs": []
    },
    {
      "cell_type": "code",
      "source": [
        "prev_train.shape"
      ],
      "metadata": {
        "colab": {
          "base_uri": "https://localhost:8080/"
        },
        "id": "pfWTfP02tAxG",
        "outputId": "c02e6c1a-0784-40e9-991f-d1e0fe92b8b1"
      },
      "execution_count": 16,
      "outputs": [
        {
          "output_type": "execute_result",
          "data": {
            "text/plain": [
              "(455, 30)"
            ]
          },
          "metadata": {},
          "execution_count": 16
        }
      ]
    },
    {
      "cell_type": "markdown",
      "source": [
        "## 3 - transform\n"
      ],
      "metadata": {
        "id": "LfazECj_tLRI"
      }
    },
    {
      "cell_type": "code",
      "source": [
        "type(prev_train)"
      ],
      "metadata": {
        "colab": {
          "base_uri": "https://localhost:8080/"
        },
        "id": "kN-WpUAVtOqw",
        "outputId": "fa44ff0b-d1ba-4cb3-92ae-f1dfb0b0284b"
      },
      "execution_count": 17,
      "outputs": [
        {
          "output_type": "execute_result",
          "data": {
            "text/plain": [
              "pandas.core.frame.DataFrame"
            ]
          },
          "metadata": {},
          "execution_count": 17
        }
      ]
    },
    {
      "cell_type": "code",
      "source": [
        "type(np.array(prev_train))"
      ],
      "metadata": {
        "colab": {
          "base_uri": "https://localhost:8080/"
        },
        "id": "3l20kTLOtUTY",
        "outputId": "74b69559-aca2-4513-9024-2c358bf2fc23"
      },
      "execution_count": 18,
      "outputs": [
        {
          "output_type": "execute_result",
          "data": {
            "text/plain": [
              "numpy.ndarray"
            ]
          },
          "metadata": {},
          "execution_count": 18
        }
      ]
    },
    {
      "cell_type": "code",
      "source": [
        "prev_train = torch.tensor(np.array(prev_train), dtype=torch.float)\n",
        "type(prev_train)\n",
        "classe_train = torch.tensor(np.array(classe_train), dtype=torch.float)\n",
        "type(classe_train)\n",
        "\n",
        "prev_test = torch.tensor(np.array(prev_test), dtype=torch.float)\n",
        "type(prev_test)\n",
        "classe_test = torch.tensor(np.array(classe_test), dtype=torch.float)\n",
        "type(classe_test)"
      ],
      "metadata": {
        "colab": {
          "base_uri": "https://localhost:8080/"
        },
        "id": "MLweOFCVtXev",
        "outputId": "80ba0076-77f3-4709-93a2-6b9d13273caf"
      },
      "execution_count": 24,
      "outputs": [
        {
          "output_type": "execute_result",
          "data": {
            "text/plain": [
              "torch.Tensor"
            ]
          },
          "metadata": {},
          "execution_count": 24
        }
      ]
    },
    {
      "cell_type": "code",
      "source": [],
      "metadata": {
        "id": "gF0hIen3vykD"
      },
      "execution_count": null,
      "outputs": []
    },
    {
      "cell_type": "code",
      "source": [
        "dataset = torch.utils.data.TensorDataset(prev_train, classe_train)"
      ],
      "metadata": {
        "id": "XQdkBfhwvrpQ"
      },
      "execution_count": 25,
      "outputs": []
    },
    {
      "cell_type": "code",
      "source": [
        "train_loader = torch.utils.data.DataLoader(dataset,\n",
        "                                           batch_size=32,\n",
        "                                           shuffle=True)"
      ],
      "metadata": {
        "id": "oeZIdD2wwLzl"
      },
      "execution_count": 27,
      "outputs": []
    },
    {
      "cell_type": "markdown",
      "source": [
        "## 4 - construct the model"
      ],
      "metadata": {
        "id": "ad92LY3Qwf6B"
      }
    },
    {
      "cell_type": "code",
      "source": [
        "# 30 neurons in input layer, equall total input class 30-> 16 -> 16 -> 1 output is a probability\n",
        "model = nn.Sequential(\n",
        "    nn.Linear(in_features = 30, out_features = 16), # dense layer in TF \n",
        "    nn.ReLU(),\n",
        "    nn.Linear(16, 16),\n",
        "    nn.ReLU(),\n",
        "    nn.Linear(16, 1),\n",
        "    nn.Sigmoid()\n",
        ")"
      ],
      "metadata": {
        "id": "26K195g5ws8j"
      },
      "execution_count": 31,
      "outputs": []
    },
    {
      "cell_type": "code",
      "source": [
        "model.parameters"
      ],
      "metadata": {
        "colab": {
          "base_uri": "https://localhost:8080/"
        },
        "id": "ye_o9QaXxpTt",
        "outputId": "bba31ca0-38df-455c-8ab2-c3264dc44aeb"
      },
      "execution_count": 32,
      "outputs": [
        {
          "output_type": "execute_result",
          "data": {
            "text/plain": [
              "<bound method Module.parameters of Sequential(\n",
              "  (0): Linear(in_features=30, out_features=16, bias=True)\n",
              "  (1): ReLU()\n",
              "  (2): Linear(in_features=16, out_features=16, bias=True)\n",
              "  (3): ReLU()\n",
              "  (4): Linear(in_features=16, out_features=1, bias=True)\n",
              "  (5): Sigmoid()\n",
              ")>"
            ]
          },
          "metadata": {},
          "execution_count": 32
        }
      ]
    },
    {
      "cell_type": "code",
      "source": [
        "#loss function\n",
        "loss_function = nn.BCELoss()"
      ],
      "metadata": {
        "id": "WGw7NoUCxuN5"
      },
      "execution_count": 33,
      "outputs": []
    },
    {
      "cell_type": "code",
      "source": [
        "#optimixer\n",
        "optimizer = torch.optim.Adam(model.parameters(), lr = 0.001, weight_decay=0.0001)"
      ],
      "metadata": {
        "id": "YuIAjik9x68G"
      },
      "execution_count": 34,
      "outputs": []
    },
    {
      "cell_type": "markdown",
      "source": [
        "## 5 - Fit the model"
      ],
      "metadata": {
        "id": "hl8spqgEyS9Y"
      }
    },
    {
      "cell_type": "code",
      "source": [
        "for epoch in range(100):  # total img / batch_size === total adjust\n",
        "  running_loss = 0.  #save the loss\n",
        "  for data in train_loader: # interate in train_loader (prev, classe) 32 in 32\n",
        "    inputs, labels = data # get data \n",
        "    #print(inputs)\n",
        "    #print(\"----------\")\n",
        "    #print(labels)\n",
        "    optimizer.zero_grad() # zero to accumulators, direction from weig..\n",
        "    outputs = model(inputs) # model.forward(inputs), get the predictions for all registers, and push to next\n",
        "    #print(outputs)\n",
        "    #compare pred with gtruth labels\n",
        "    loss = loss_function(outputs, labels)\n",
        "    #print(loss)\n",
        "    #backpropagation\n",
        "    loss.backward()\n",
        "    #update wei...\n",
        "    optimizer.step()\n",
        "    running_loss += loss.item()\n",
        "    #end epoch\n",
        "  print(f\"Época %3d: perda %.5f\" % (epoch+1, running_loss/len(train_loader)))"
      ],
      "metadata": {
        "id": "sEI5e7-CyXwp"
      },
      "execution_count": null,
      "outputs": []
    },
    {
      "cell_type": "code",
      "source": [
        "## 6 - Visializing weights\n",
        "params = list(model.parameters())\n",
        "params"
      ],
      "metadata": {
        "colab": {
          "base_uri": "https://localhost:8080/"
        },
        "id": "un_nkbKz2Fa_",
        "outputId": "7c49c850-8b30-48ba-eddf-ef50e7645f06"
      },
      "execution_count": 37,
      "outputs": [
        {
          "output_type": "execute_result",
          "data": {
            "text/plain": [
              "[Parameter containing:\n",
              " tensor([[ 1.9870e-01, -3.9322e-02,  1.5549e-01,  1.2284e-01, -2.2390e-02,\n",
              "           2.6277e-02,  6.7252e-02, -7.0558e-02,  1.4913e-01, -1.3946e-01,\n",
              "           2.2172e-02,  9.6697e-02, -6.3763e-02,  1.0309e-01, -1.1516e-02,\n",
              "           1.6750e-01,  2.0751e-01, -9.5226e-03,  6.5487e-02, -2.7290e-01,\n",
              "           1.8048e-01,  6.5521e-03, -6.1305e-02,  9.5299e-02,  7.1356e-03,\n",
              "           2.1820e-01, -9.9141e-02,  1.5037e-01,  1.0712e-01, -9.1721e-02],\n",
              "         [ 5.7846e-02,  4.5827e-02,  1.8268e-01, -6.0717e-02,  7.6728e-02,\n",
              "           1.6202e-01, -1.9722e-01,  2.1300e-01,  5.6796e-02,  2.7469e-01,\n",
              "          -2.8928e-02, -5.9390e-02,  1.3483e-01, -2.1478e-01, -1.5516e-02,\n",
              "           1.1238e-01,  3.2372e-02,  1.1605e-01,  1.2063e-01, -3.1606e-01,\n",
              "           3.0532e-02, -1.1498e-01,  4.7344e-02, -4.5114e-02, -1.8057e-01,\n",
              "           2.0990e-01, -1.0580e-02, -6.1105e-02,  8.4665e-02, -7.7384e-02],\n",
              "         [-1.2312e-01, -1.6346e-01, -1.2666e-01, -8.3283e-03, -6.8828e-02,\n",
              "           3.6760e-02,  1.8854e-01, -2.4634e-01, -1.4665e-01,  1.1351e-01,\n",
              "           6.8924e-02,  3.9408e-02, -1.2341e-01,  5.1235e-02, -6.5395e-03,\n",
              "           2.3817e-02,  1.5202e-02,  1.4848e-02,  2.6468e-01,  4.1070e-03,\n",
              "          -1.1143e-01, -1.5294e-01, -3.5510e-02,  1.0881e-01, -3.9763e-02,\n",
              "          -8.4552e-02, -1.8704e-01,  9.8046e-02, -8.5296e-02,  2.7305e-02],\n",
              "         [ 4.4342e-02,  1.4290e-01, -3.8552e-02,  4.7484e-02,  3.0399e-06,\n",
              "           2.1699e-06,  1.4378e-11, -1.1904e-22, -2.8556e-04, -3.7130e-10,\n",
              "          -1.5231e-02, -8.8210e-02, -4.0793e-03, -4.9320e-02,  2.6931e-33,\n",
              "          -1.4745e-21,  2.8364e-21, -6.9892e-23, -8.1188e-15, -4.8420e-36,\n",
              "          -3.2654e-02,  1.2088e-01, -1.7413e-01, -1.1333e-01,  1.4847e-01,\n",
              "           1.1358e-04, -1.0669e-09,  1.0031e-09,  7.9560e-03, -1.3624e-09],\n",
              "         [-2.9381e-01, -1.3302e-01, -1.9314e-01, -1.1624e-01,  2.1615e-01,\n",
              "          -1.3171e-01,  1.4031e-01, -1.0399e-01,  1.7616e-02, -1.1286e-01,\n",
              "           5.5121e-02,  8.6396e-03, -6.7173e-03, -5.8969e-03,  1.4971e-02,\n",
              "           5.0094e-02, -7.2031e-02,  5.7946e-02, -4.6548e-03,  6.9075e-02,\n",
              "          -1.9620e-01, -1.4022e-01,  7.5894e-03,  1.7732e-01,  6.0770e-02,\n",
              "           1.1401e-01, -1.5153e-02,  4.5714e-02,  1.7901e-01,  2.2134e-01],\n",
              "         [ 7.2442e-02,  7.5257e-02, -5.8712e-02, -1.3402e-01,  8.2306e-02,\n",
              "           1.7683e-01,  4.8595e-03,  7.6242e-02, -1.0011e-01, -9.0154e-02,\n",
              "           1.0932e-01, -2.3840e-01,  9.2830e-02,  1.5035e-02,  5.5625e-04,\n",
              "           6.4728e-02,  9.2109e-02,  8.5299e-03, -2.2040e-02,  6.9294e-03,\n",
              "          -2.4226e-01,  1.3021e-02, -1.8262e-01, -1.3234e-01, -9.4919e-02,\n",
              "          -1.4241e-02, -5.5980e-02,  3.0968e-02,  1.4896e-01,  1.7886e-01],\n",
              "         [ 8.7833e-02, -1.4946e-01,  1.8772e-01,  1.0296e-01,  3.7304e-02,\n",
              "          -3.4860e-02, -7.9087e-02,  4.2788e-03, -1.7519e-01, -2.7893e-01,\n",
              "           4.0668e-02,  1.1563e-01,  2.5316e-02, -8.1657e-02, -7.7749e-03,\n",
              "          -3.0907e-02,  2.6049e-01,  3.6557e-03,  5.7218e-02,  6.2079e-02,\n",
              "           2.0915e-01, -1.5576e-01,  1.4626e-01, -1.2692e-01,  1.6763e-01,\n",
              "           1.9783e-01, -6.9796e-02, -7.1579e-02, -3.2662e-02, -1.1303e-01],\n",
              "         [-1.1068e-01,  1.1802e-01,  2.8821e-02, -2.1535e-01,  9.6941e-03,\n",
              "          -1.7064e-02, -2.3598e-02, -6.2386e-03,  1.1401e-02, -5.7331e-02,\n",
              "          -2.5072e-03,  1.2461e-01, -7.6051e-02, -1.0531e-01,  2.0544e-03,\n",
              "           5.5038e-04, -3.4326e-04,  1.3433e-03, -2.3903e-02,  7.8725e-04,\n",
              "           8.8734e-02,  1.3883e-02,  2.5545e-02, -1.4760e-01,  1.6502e-01,\n",
              "           2.3652e-01,  1.4293e-01, -3.0994e-02,  1.3231e-01,  5.8655e-03],\n",
              "         [ 1.2386e-01, -9.2729e-02, -4.5007e-02, -1.0790e-01, -1.9979e-01,\n",
              "          -6.6507e-02,  2.4520e-01, -9.5227e-02,  3.6225e-02,  1.1469e-01,\n",
              "          -2.3969e-01,  1.6673e-01, -6.5915e-02, -3.5579e-02,  1.8957e-03,\n",
              "          -1.9032e-03, -3.4494e-01, -1.8613e-01,  2.4980e-01,  2.1705e-01,\n",
              "           2.6273e-02, -1.1495e-01,  6.1632e-02,  8.4303e-02,  9.0067e-02,\n",
              "           5.1130e-02, -2.4568e-02,  1.7225e-01,  1.7692e-01,  6.2236e-02],\n",
              "         [-7.3186e-02, -1.5746e-01,  1.1058e-01,  3.1294e-02, -1.7828e-02,\n",
              "          -4.1905e-02, -3.4456e-02, -8.9618e-02,  1.2823e-01,  4.0596e-01,\n",
              "           1.2633e-01, -7.1895e-02,  4.9634e-02, -1.5069e-01, -1.0377e-02,\n",
              "          -1.3515e-01,  2.4412e-01, -7.8128e-02,  2.8792e-01, -1.4113e-01,\n",
              "           2.6602e-01, -1.8805e-02,  7.0016e-02, -1.9511e-02,  1.4070e-01,\n",
              "          -4.4977e-02,  1.9345e-02, -1.6278e-01,  6.4781e-02,  5.3328e-02],\n",
              "         [ 1.1783e-01,  9.3475e-03, -2.4711e-02,  5.2311e-02, -1.8667e-01,\n",
              "          -6.0016e-02,  1.9453e-01, -2.0934e-01, -1.3578e-01,  4.4823e-02,\n",
              "           3.7500e-03,  1.4710e-02,  7.2862e-02, -2.4645e-01, -1.4981e-02,\n",
              "           1.8162e-01,  6.0292e-02, -9.8567e-02,  1.0337e-01, -2.0021e-01,\n",
              "          -4.2090e-02, -5.0524e-02, -4.8934e-02, -6.1956e-02,  1.3618e-01,\n",
              "          -1.0950e-01, -1.7068e-01, -2.2666e-02,  1.1318e-01,  7.9980e-02],\n",
              "         [ 6.0958e-02,  1.3652e-01, -6.7980e-02, -4.2621e-02,  1.2918e-01,\n",
              "           1.8118e-01, -9.5063e-02, -1.6161e-02,  1.0691e-02, -1.1208e-02,\n",
              "           1.5862e-01,  1.0991e-01,  2.4633e-02,  1.3026e-01,  1.0231e-02,\n",
              "           1.1070e-01, -9.7861e-02, -9.8035e-02, -2.2699e-01, -1.8079e-02,\n",
              "          -2.0461e-01, -8.0678e-03,  4.1144e-02,  9.7639e-03,  5.9382e-02,\n",
              "          -5.5701e-02, -8.5987e-02,  1.0895e-01,  7.0521e-02,  9.7715e-02],\n",
              "         [ 1.0429e-01,  1.7116e-02, -1.2653e-01,  5.8401e-02,  1.1888e-01,\n",
              "           1.7018e-01, -1.3138e-01,  8.6406e-02, -1.1087e-01,  1.2540e-01,\n",
              "          -1.2412e-01,  6.3073e-02,  1.3205e-01,  9.0431e-02,  9.4582e-03,\n",
              "          -7.6727e-02, -1.6858e-01, -2.0828e-01, -9.9812e-02,  1.1141e-01,\n",
              "          -2.6983e-01,  1.8634e-01, -2.1454e-01, -9.0768e-02,  9.0622e-02,\n",
              "           1.1220e-01, -8.0640e-02, -2.0137e-01, -1.1266e-01,  1.5079e-01],\n",
              "         [-2.7615e-01, -6.8298e-02, -2.2437e-01,  6.9415e-02,  3.3547e-03,\n",
              "           7.3731e-02,  5.8187e-02,  5.2907e-02,  9.1320e-02, -3.9415e-02,\n",
              "           1.6224e-01, -1.3103e-01,  8.5213e-02, -1.3477e-02,  1.3204e-02,\n",
              "           2.0202e-02, -2.7141e-01,  8.3316e-02, -1.4661e-01,  2.7505e-01,\n",
              "           4.2679e-02,  1.9091e-02,  7.5514e-03,  1.4352e-01,  1.0490e-01,\n",
              "           4.7347e-02, -1.6769e-01, -4.0285e-02, -2.7670e-02,  1.5928e-01],\n",
              "         [ 1.0009e-01,  4.4668e-02,  7.5286e-02,  6.2342e-02, -7.9033e-03,\n",
              "          -1.4479e-01, -1.0051e-01,  1.8088e-01, -4.2425e-02,  1.7719e-01,\n",
              "           5.1617e-02, -1.0238e-01, -1.6523e-01,  7.9162e-02,  1.2435e-03,\n",
              "          -1.3863e-02, -3.0671e-02, -4.8884e-03, -6.9719e-02, -1.3899e-04,\n",
              "           7.2927e-02,  3.1521e-03, -1.0040e-01,  7.1078e-02, -7.2253e-02,\n",
              "           4.0506e-02, -5.4695e-02, -9.5580e-02, -6.1004e-02, -9.5385e-02],\n",
              "         [-6.1623e-02, -1.2353e-01,  1.4138e-02, -6.1168e-03,  9.7142e-03,\n",
              "           2.8279e-02, -1.0271e-01, -2.8946e-02,  3.6291e-02,  1.1468e-01,\n",
              "          -1.2541e-01,  1.4926e-01, -9.8368e-02,  9.2453e-02,  4.1293e-04,\n",
              "          -5.2661e-02,  7.8975e-02, -3.7029e-03, -1.9830e-01, -9.5159e-02,\n",
              "          -1.9235e-03,  6.0793e-02, -7.4080e-02,  7.8313e-02, -1.2169e-02,\n",
              "          -1.5346e-01,  3.0142e-02,  2.6196e-01,  1.0321e-01,  1.9571e-02]],\n",
              "        requires_grad=True), Parameter containing:\n",
              " tensor([ 0.2406,  0.1219, -0.1976,  0.0248, -0.3329, -0.1787,  0.2729, -0.0396,\n",
              "          0.0011,  0.0522,  0.2113, -0.2157, -0.1210, -0.1979,  0.0736,  0.1405],\n",
              "        requires_grad=True), Parameter containing:\n",
              " tensor([[ 1.4924e-01, -9.4613e-02,  1.2698e-01, -1.7552e-01,  2.3295e-01,\n",
              "          -5.7167e-02,  9.6760e-02, -1.5929e-01, -2.5449e-02, -4.5021e-02,\n",
              "           1.2788e-01, -1.4470e-01,  1.6332e-01,  4.3036e-03, -9.6273e-02,\n",
              "          -9.3189e-03],\n",
              "         [ 1.9310e-01,  1.8377e-01, -1.1588e-01, -8.7050e-02,  8.6251e-02,\n",
              "           2.4668e-01,  5.1426e-02,  1.5306e-01, -6.8674e-02,  6.8413e-02,\n",
              "           7.1756e-02,  5.0965e-02, -6.8423e-02,  1.9380e-01,  2.2012e-01,\n",
              "           4.3267e-02],\n",
              "         [ 8.0735e-02, -4.3257e-02,  3.4574e-02,  1.2442e-01,  1.9353e-01,\n",
              "           7.3915e-02,  2.4562e-03, -2.0006e-01,  5.3845e-02,  1.7318e-01,\n",
              "          -1.8241e-01,  1.2358e-01,  2.3488e-01,  1.7126e-01, -7.5962e-03,\n",
              "           2.3394e-01],\n",
              "         [ 8.9199e-02,  7.6881e-02, -7.2493e-02, -7.9786e-26, -8.9267e-02,\n",
              "          -1.6929e-01, -4.1720e-02, -4.7606e-02, -9.5000e-02, -9.3888e-02,\n",
              "          -1.7847e-01,  1.3284e-01,  1.1890e-01, -1.5322e-01, -2.1245e-02,\n",
              "           1.7053e-01],\n",
              "         [ 1.3958e-01,  3.0127e-02, -7.8564e-02,  9.2777e-02, -3.9113e-02,\n",
              "           8.8028e-02,  1.1607e-02, -3.5550e-03, -1.0225e-01,  7.5538e-04,\n",
              "           4.8415e-02,  2.2262e-01, -2.3061e-01,  1.0684e-02,  1.1875e-01,\n",
              "          -2.9810e-02],\n",
              "         [-7.2159e-02, -1.8088e-01, -5.0864e-02, -3.1531e-12,  5.6271e-02,\n",
              "           5.0570e-02,  2.3735e-01,  1.8640e-01,  1.8502e-04,  2.0142e-01,\n",
              "          -9.5157e-02, -1.1015e-01, -1.4184e-02,  2.3970e-01,  2.4551e-02,\n",
              "           1.3895e-01],\n",
              "         [ 1.2693e-01,  5.7413e-02,  9.5095e-02,  4.0263e-02, -1.9296e-01,\n",
              "           6.6622e-02, -1.4114e-01, -1.0001e-01,  4.0723e-02, -1.1926e-01,\n",
              "          -1.4168e-02,  2.3731e-01,  6.4782e-02, -7.8498e-02, -2.4385e-01,\n",
              "           8.7769e-02],\n",
              "         [-1.3394e-05, -2.4685e-32,  1.0347e-21,  1.0794e-26, -2.2469e-15,\n",
              "           4.2379e-29, -1.5196e-06,  9.4439e-09,  1.4826e-05, -1.0128e-35,\n",
              "           2.0322e-27, -9.7718e-07,  3.0220e-27, -1.6743e-34, -1.2084e-33,\n",
              "          -6.7128e-06],\n",
              "         [ 1.4315e-02,  1.9279e-01,  5.5238e-02, -1.5609e-15,  1.9177e-01,\n",
              "           1.2708e-01, -1.9675e-01,  1.8621e-03,  1.6371e-01, -1.0797e-01,\n",
              "          -2.5131e-01,  4.2812e-02, -2.3744e-02,  9.7602e-02,  5.4108e-02,\n",
              "          -4.7776e-02],\n",
              "         [-1.2342e-02, -4.5556e-03,  2.6869e-03, -1.4490e-36, -1.0288e-02,\n",
              "           1.5780e-03, -3.2564e-03,  1.4089e-02,  1.9621e-03, -4.5661e-03,\n",
              "          -7.2303e-03, -3.2250e-03, -4.9444e-03, -7.4104e-03, -1.8255e-02,\n",
              "           1.0116e-03],\n",
              "         [-2.1301e-02, -3.5818e-02, -1.2068e-03, -2.4948e-35, -2.3466e-02,\n",
              "          -2.3513e-02, -2.6731e-02, -1.2064e-09, -2.0973e-02, -2.5342e-02,\n",
              "          -3.3589e-02, -2.7490e-02, -3.2777e-02, -3.8278e-02,  2.2542e-06,\n",
              "          -1.5715e-02],\n",
              "         [ 1.2195e-02, -1.0127e-01, -6.8127e-02, -5.2188e-02, -1.0455e-01,\n",
              "           2.6282e-01, -2.4160e-02,  2.3163e-01,  1.6382e-01,  2.7735e-02,\n",
              "           2.1941e-01,  1.7427e-01, -1.5625e-01,  1.2244e-02, -1.5700e-02,\n",
              "           7.9399e-02],\n",
              "         [ 1.9235e-01,  1.5720e-01, -6.6005e-02, -1.6321e-01, -2.3615e-01,\n",
              "          -1.3749e-01, -3.0411e-02, -1.7622e-01, -9.3822e-02,  6.9835e-02,\n",
              "           1.3353e-01,  2.2281e-01,  8.3981e-02, -1.7307e-01, -9.6794e-02,\n",
              "           3.8218e-02],\n",
              "         [ 1.9284e-01,  1.2218e-01, -5.4404e-02, -2.2087e-01,  2.7933e-02,\n",
              "          -7.8258e-02,  4.9880e-02,  2.6050e-02,  1.4725e-01,  2.8972e-02,\n",
              "          -1.2013e-01, -2.6846e-02,  1.1898e-01, -7.7963e-02,  1.7152e-01,\n",
              "           1.8441e-01],\n",
              "         [-1.3827e-01, -7.7654e-03,  3.2934e-02,  4.4571e-02,  1.0498e-01,\n",
              "          -6.0136e-03,  1.2154e-01, -1.7052e-02,  1.6339e-01, -1.2313e-02,\n",
              "          -4.3414e-02,  1.6046e-01, -1.3565e-02,  7.8685e-02,  1.7051e-01,\n",
              "           1.6378e-01],\n",
              "         [-1.7178e-01,  6.1076e-02,  7.0170e-02, -1.0431e-12, -4.2947e-02,\n",
              "          -6.1960e-02,  1.6943e-01, -1.2479e-14, -8.0585e-02,  1.6322e-01,\n",
              "           8.2906e-02, -2.3060e-01, -2.4178e-01,  1.8684e-01,  2.2963e-02,\n",
              "          -9.2295e-02]], requires_grad=True), Parameter containing:\n",
              " tensor([-1.0260e-02,  3.0750e-01, -2.7059e-01,  8.3660e-02,  2.1279e-01,\n",
              "          4.2645e-01, -2.5569e-01, -5.6193e-21, -1.3508e-01,  2.9000e-04,\n",
              "         -8.8758e-04,  2.6295e-01,  9.2620e-02,  2.4164e-01, -1.3283e-01,\n",
              "          1.2392e-02], requires_grad=True), Parameter containing:\n",
              " tensor([[-1.2223e-01,  1.2506e-01, -2.1104e-01,  1.9074e-01,  9.2979e-02,\n",
              "           1.0100e-01, -1.6135e-01,  3.2947e-13, -2.3654e-01, -5.7132e-03,\n",
              "          -1.9774e-02,  1.5525e-01,  1.7441e-01,  1.9604e-01, -2.0553e-01,\n",
              "           1.8198e-01]], requires_grad=True), Parameter containing:\n",
              " tensor([0.4197], requires_grad=True)]"
            ]
          },
          "metadata": {},
          "execution_count": 37
        }
      ]
    },
    {
      "cell_type": "code",
      "source": [
        "pesos0 = params[0]"
      ],
      "metadata": {
        "id": "dIgr26Sc2RU2"
      },
      "execution_count": 38,
      "outputs": []
    },
    {
      "cell_type": "code",
      "source": [
        "pesos0.shape"
      ],
      "metadata": {
        "colab": {
          "base_uri": "https://localhost:8080/"
        },
        "id": "-Gtt_Sma2T9M",
        "outputId": "667c7838-097c-4eaa-998c-9081db22c159"
      },
      "execution_count": 39,
      "outputs": [
        {
          "output_type": "execute_result",
          "data": {
            "text/plain": [
              "torch.Size([16, 30])"
            ]
          },
          "metadata": {},
          "execution_count": 39
        }
      ]
    },
    {
      "cell_type": "code",
      "source": [
        "print(pesos0)"
      ],
      "metadata": {
        "colab": {
          "base_uri": "https://localhost:8080/"
        },
        "id": "86u-L8xY2ZQN",
        "outputId": "e001d2f4-d5c2-415a-9aaf-4274a5f6eb3d"
      },
      "execution_count": 40,
      "outputs": [
        {
          "output_type": "stream",
          "name": "stdout",
          "text": [
            "Parameter containing:\n",
            "tensor([[ 1.9870e-01, -3.9322e-02,  1.5549e-01,  1.2284e-01, -2.2390e-02,\n",
            "          2.6277e-02,  6.7252e-02, -7.0558e-02,  1.4913e-01, -1.3946e-01,\n",
            "          2.2172e-02,  9.6697e-02, -6.3763e-02,  1.0309e-01, -1.1516e-02,\n",
            "          1.6750e-01,  2.0751e-01, -9.5226e-03,  6.5487e-02, -2.7290e-01,\n",
            "          1.8048e-01,  6.5521e-03, -6.1305e-02,  9.5299e-02,  7.1356e-03,\n",
            "          2.1820e-01, -9.9141e-02,  1.5037e-01,  1.0712e-01, -9.1721e-02],\n",
            "        [ 5.7846e-02,  4.5827e-02,  1.8268e-01, -6.0717e-02,  7.6728e-02,\n",
            "          1.6202e-01, -1.9722e-01,  2.1300e-01,  5.6796e-02,  2.7469e-01,\n",
            "         -2.8928e-02, -5.9390e-02,  1.3483e-01, -2.1478e-01, -1.5516e-02,\n",
            "          1.1238e-01,  3.2372e-02,  1.1605e-01,  1.2063e-01, -3.1606e-01,\n",
            "          3.0532e-02, -1.1498e-01,  4.7344e-02, -4.5114e-02, -1.8057e-01,\n",
            "          2.0990e-01, -1.0580e-02, -6.1105e-02,  8.4665e-02, -7.7384e-02],\n",
            "        [-1.2312e-01, -1.6346e-01, -1.2666e-01, -8.3283e-03, -6.8828e-02,\n",
            "          3.6760e-02,  1.8854e-01, -2.4634e-01, -1.4665e-01,  1.1351e-01,\n",
            "          6.8924e-02,  3.9408e-02, -1.2341e-01,  5.1235e-02, -6.5395e-03,\n",
            "          2.3817e-02,  1.5202e-02,  1.4848e-02,  2.6468e-01,  4.1070e-03,\n",
            "         -1.1143e-01, -1.5294e-01, -3.5510e-02,  1.0881e-01, -3.9763e-02,\n",
            "         -8.4552e-02, -1.8704e-01,  9.8046e-02, -8.5296e-02,  2.7305e-02],\n",
            "        [ 4.4342e-02,  1.4290e-01, -3.8552e-02,  4.7484e-02,  3.0399e-06,\n",
            "          2.1699e-06,  1.4378e-11, -1.1904e-22, -2.8556e-04, -3.7130e-10,\n",
            "         -1.5231e-02, -8.8210e-02, -4.0793e-03, -4.9320e-02,  2.6931e-33,\n",
            "         -1.4745e-21,  2.8364e-21, -6.9892e-23, -8.1188e-15, -4.8420e-36,\n",
            "         -3.2654e-02,  1.2088e-01, -1.7413e-01, -1.1333e-01,  1.4847e-01,\n",
            "          1.1358e-04, -1.0669e-09,  1.0031e-09,  7.9560e-03, -1.3624e-09],\n",
            "        [-2.9381e-01, -1.3302e-01, -1.9314e-01, -1.1624e-01,  2.1615e-01,\n",
            "         -1.3171e-01,  1.4031e-01, -1.0399e-01,  1.7616e-02, -1.1286e-01,\n",
            "          5.5121e-02,  8.6396e-03, -6.7173e-03, -5.8969e-03,  1.4971e-02,\n",
            "          5.0094e-02, -7.2031e-02,  5.7946e-02, -4.6548e-03,  6.9075e-02,\n",
            "         -1.9620e-01, -1.4022e-01,  7.5894e-03,  1.7732e-01,  6.0770e-02,\n",
            "          1.1401e-01, -1.5153e-02,  4.5714e-02,  1.7901e-01,  2.2134e-01],\n",
            "        [ 7.2442e-02,  7.5257e-02, -5.8712e-02, -1.3402e-01,  8.2306e-02,\n",
            "          1.7683e-01,  4.8595e-03,  7.6242e-02, -1.0011e-01, -9.0154e-02,\n",
            "          1.0932e-01, -2.3840e-01,  9.2830e-02,  1.5035e-02,  5.5625e-04,\n",
            "          6.4728e-02,  9.2109e-02,  8.5299e-03, -2.2040e-02,  6.9294e-03,\n",
            "         -2.4226e-01,  1.3021e-02, -1.8262e-01, -1.3234e-01, -9.4919e-02,\n",
            "         -1.4241e-02, -5.5980e-02,  3.0968e-02,  1.4896e-01,  1.7886e-01],\n",
            "        [ 8.7833e-02, -1.4946e-01,  1.8772e-01,  1.0296e-01,  3.7304e-02,\n",
            "         -3.4860e-02, -7.9087e-02,  4.2788e-03, -1.7519e-01, -2.7893e-01,\n",
            "          4.0668e-02,  1.1563e-01,  2.5316e-02, -8.1657e-02, -7.7749e-03,\n",
            "         -3.0907e-02,  2.6049e-01,  3.6557e-03,  5.7218e-02,  6.2079e-02,\n",
            "          2.0915e-01, -1.5576e-01,  1.4626e-01, -1.2692e-01,  1.6763e-01,\n",
            "          1.9783e-01, -6.9796e-02, -7.1579e-02, -3.2662e-02, -1.1303e-01],\n",
            "        [-1.1068e-01,  1.1802e-01,  2.8821e-02, -2.1535e-01,  9.6941e-03,\n",
            "         -1.7064e-02, -2.3598e-02, -6.2386e-03,  1.1401e-02, -5.7331e-02,\n",
            "         -2.5072e-03,  1.2461e-01, -7.6051e-02, -1.0531e-01,  2.0544e-03,\n",
            "          5.5038e-04, -3.4326e-04,  1.3433e-03, -2.3903e-02,  7.8725e-04,\n",
            "          8.8734e-02,  1.3883e-02,  2.5545e-02, -1.4760e-01,  1.6502e-01,\n",
            "          2.3652e-01,  1.4293e-01, -3.0994e-02,  1.3231e-01,  5.8655e-03],\n",
            "        [ 1.2386e-01, -9.2729e-02, -4.5007e-02, -1.0790e-01, -1.9979e-01,\n",
            "         -6.6507e-02,  2.4520e-01, -9.5227e-02,  3.6225e-02,  1.1469e-01,\n",
            "         -2.3969e-01,  1.6673e-01, -6.5915e-02, -3.5579e-02,  1.8957e-03,\n",
            "         -1.9032e-03, -3.4494e-01, -1.8613e-01,  2.4980e-01,  2.1705e-01,\n",
            "          2.6273e-02, -1.1495e-01,  6.1632e-02,  8.4303e-02,  9.0067e-02,\n",
            "          5.1130e-02, -2.4568e-02,  1.7225e-01,  1.7692e-01,  6.2236e-02],\n",
            "        [-7.3186e-02, -1.5746e-01,  1.1058e-01,  3.1294e-02, -1.7828e-02,\n",
            "         -4.1905e-02, -3.4456e-02, -8.9618e-02,  1.2823e-01,  4.0596e-01,\n",
            "          1.2633e-01, -7.1895e-02,  4.9634e-02, -1.5069e-01, -1.0377e-02,\n",
            "         -1.3515e-01,  2.4412e-01, -7.8128e-02,  2.8792e-01, -1.4113e-01,\n",
            "          2.6602e-01, -1.8805e-02,  7.0016e-02, -1.9511e-02,  1.4070e-01,\n",
            "         -4.4977e-02,  1.9345e-02, -1.6278e-01,  6.4781e-02,  5.3328e-02],\n",
            "        [ 1.1783e-01,  9.3475e-03, -2.4711e-02,  5.2311e-02, -1.8667e-01,\n",
            "         -6.0016e-02,  1.9453e-01, -2.0934e-01, -1.3578e-01,  4.4823e-02,\n",
            "          3.7500e-03,  1.4710e-02,  7.2862e-02, -2.4645e-01, -1.4981e-02,\n",
            "          1.8162e-01,  6.0292e-02, -9.8567e-02,  1.0337e-01, -2.0021e-01,\n",
            "         -4.2090e-02, -5.0524e-02, -4.8934e-02, -6.1956e-02,  1.3618e-01,\n",
            "         -1.0950e-01, -1.7068e-01, -2.2666e-02,  1.1318e-01,  7.9980e-02],\n",
            "        [ 6.0958e-02,  1.3652e-01, -6.7980e-02, -4.2621e-02,  1.2918e-01,\n",
            "          1.8118e-01, -9.5063e-02, -1.6161e-02,  1.0691e-02, -1.1208e-02,\n",
            "          1.5862e-01,  1.0991e-01,  2.4633e-02,  1.3026e-01,  1.0231e-02,\n",
            "          1.1070e-01, -9.7861e-02, -9.8035e-02, -2.2699e-01, -1.8079e-02,\n",
            "         -2.0461e-01, -8.0678e-03,  4.1144e-02,  9.7639e-03,  5.9382e-02,\n",
            "         -5.5701e-02, -8.5987e-02,  1.0895e-01,  7.0521e-02,  9.7715e-02],\n",
            "        [ 1.0429e-01,  1.7116e-02, -1.2653e-01,  5.8401e-02,  1.1888e-01,\n",
            "          1.7018e-01, -1.3138e-01,  8.6406e-02, -1.1087e-01,  1.2540e-01,\n",
            "         -1.2412e-01,  6.3073e-02,  1.3205e-01,  9.0431e-02,  9.4582e-03,\n",
            "         -7.6727e-02, -1.6858e-01, -2.0828e-01, -9.9812e-02,  1.1141e-01,\n",
            "         -2.6983e-01,  1.8634e-01, -2.1454e-01, -9.0768e-02,  9.0622e-02,\n",
            "          1.1220e-01, -8.0640e-02, -2.0137e-01, -1.1266e-01,  1.5079e-01],\n",
            "        [-2.7615e-01, -6.8298e-02, -2.2437e-01,  6.9415e-02,  3.3547e-03,\n",
            "          7.3731e-02,  5.8187e-02,  5.2907e-02,  9.1320e-02, -3.9415e-02,\n",
            "          1.6224e-01, -1.3103e-01,  8.5213e-02, -1.3477e-02,  1.3204e-02,\n",
            "          2.0202e-02, -2.7141e-01,  8.3316e-02, -1.4661e-01,  2.7505e-01,\n",
            "          4.2679e-02,  1.9091e-02,  7.5514e-03,  1.4352e-01,  1.0490e-01,\n",
            "          4.7347e-02, -1.6769e-01, -4.0285e-02, -2.7670e-02,  1.5928e-01],\n",
            "        [ 1.0009e-01,  4.4668e-02,  7.5286e-02,  6.2342e-02, -7.9033e-03,\n",
            "         -1.4479e-01, -1.0051e-01,  1.8088e-01, -4.2425e-02,  1.7719e-01,\n",
            "          5.1617e-02, -1.0238e-01, -1.6523e-01,  7.9162e-02,  1.2435e-03,\n",
            "         -1.3863e-02, -3.0671e-02, -4.8884e-03, -6.9719e-02, -1.3899e-04,\n",
            "          7.2927e-02,  3.1521e-03, -1.0040e-01,  7.1078e-02, -7.2253e-02,\n",
            "          4.0506e-02, -5.4695e-02, -9.5580e-02, -6.1004e-02, -9.5385e-02],\n",
            "        [-6.1623e-02, -1.2353e-01,  1.4138e-02, -6.1168e-03,  9.7142e-03,\n",
            "          2.8279e-02, -1.0271e-01, -2.8946e-02,  3.6291e-02,  1.1468e-01,\n",
            "         -1.2541e-01,  1.4926e-01, -9.8368e-02,  9.2453e-02,  4.1293e-04,\n",
            "         -5.2661e-02,  7.8975e-02, -3.7029e-03, -1.9830e-01, -9.5159e-02,\n",
            "         -1.9235e-03,  6.0793e-02, -7.4080e-02,  7.8313e-02, -1.2169e-02,\n",
            "         -1.5346e-01,  3.0142e-02,  2.6196e-01,  1.0321e-01,  1.9571e-02]],\n",
            "       requires_grad=True)\n"
          ]
        }
      ]
    },
    {
      "cell_type": "code",
      "source": [
        "bias0 = params[1]\n",
        "bias0"
      ],
      "metadata": {
        "colab": {
          "base_uri": "https://localhost:8080/"
        },
        "id": "beV6m0Ho2heo",
        "outputId": "ac07a628-5d31-4b4a-8d6c-e7897248d008"
      },
      "execution_count": 42,
      "outputs": [
        {
          "output_type": "execute_result",
          "data": {
            "text/plain": [
              "Parameter containing:\n",
              "tensor([ 0.2406,  0.1219, -0.1976,  0.0248, -0.3329, -0.1787,  0.2729, -0.0396,\n",
              "         0.0011,  0.0522,  0.2113, -0.2157, -0.1210, -0.1979,  0.0736,  0.1405],\n",
              "       requires_grad=True)"
            ]
          },
          "metadata": {},
          "execution_count": 42
        }
      ]
    },
    {
      "cell_type": "code",
      "source": [
        "pesos1 = params[2]\n",
        "pesos1.shape"
      ],
      "metadata": {
        "colab": {
          "base_uri": "https://localhost:8080/"
        },
        "id": "x9xBjSgH2k5L",
        "outputId": "021e9fb6-235d-40be-9a19-ec84a8fd2447"
      },
      "execution_count": 44,
      "outputs": [
        {
          "output_type": "execute_result",
          "data": {
            "text/plain": [
              "torch.Size([16, 16])"
            ]
          },
          "metadata": {},
          "execution_count": 44
        }
      ]
    },
    {
      "cell_type": "code",
      "source": [
        "bias1 = params[3]\n",
        "bias1.shape"
      ],
      "metadata": {
        "colab": {
          "base_uri": "https://localhost:8080/"
        },
        "id": "1tCaPKuR2pHt",
        "outputId": "0ee66955-ab92-41c3-992f-d48990d2459a"
      },
      "execution_count": 45,
      "outputs": [
        {
          "output_type": "execute_result",
          "data": {
            "text/plain": [
              "torch.Size([16])"
            ]
          },
          "metadata": {},
          "execution_count": 45
        }
      ]
    },
    {
      "cell_type": "markdown",
      "source": [
        "## 7 - Evaluate the model"
      ],
      "metadata": {
        "id": "cbJAZMTl2yKK"
      }
    },
    {
      "cell_type": "code",
      "source": [
        "## using the test dataset\n",
        "model.eval() #change to test mode, not update weights"
      ],
      "metadata": {
        "colab": {
          "base_uri": "https://localhost:8080/"
        },
        "id": "1qk6SzRX20x-",
        "outputId": "91ce5462-ea17-4afe-9bfd-83a8b3e68153"
      },
      "execution_count": 47,
      "outputs": [
        {
          "output_type": "execute_result",
          "data": {
            "text/plain": [
              "Sequential(\n",
              "  (0): Linear(in_features=30, out_features=16, bias=True)\n",
              "  (1): ReLU()\n",
              "  (2): Linear(in_features=16, out_features=16, bias=True)\n",
              "  (3): ReLU()\n",
              "  (4): Linear(in_features=16, out_features=1, bias=True)\n",
              "  (5): Sigmoid()\n",
              ")"
            ]
          },
          "metadata": {},
          "execution_count": 47
        }
      ]
    },
    {
      "cell_type": "code",
      "source": [],
      "metadata": {
        "id": "iMtkFhPr3H8E"
      },
      "execution_count": null,
      "outputs": []
    },
    {
      "cell_type": "code",
      "source": [
        "preds = model.forward(prev_test)"
      ],
      "metadata": {
        "id": "WxfVoh6j3C6h"
      },
      "execution_count": 48,
      "outputs": []
    },
    {
      "cell_type": "code",
      "source": [
        "preds\n"
      ],
      "metadata": {
        "colab": {
          "base_uri": "https://localhost:8080/"
        },
        "id": "kEQ64Je43Lvw",
        "outputId": "516d58b1-5426-491f-a932-2e6040679ff6"
      },
      "execution_count": 49,
      "outputs": [
        {
          "output_type": "execute_result",
          "data": {
            "text/plain": [
              "tensor([[1.0000e+00],\n",
              "        [8.5884e-01],\n",
              "        [5.5719e-09],\n",
              "        [9.2957e-01],\n",
              "        [9.3373e-01],\n",
              "        [2.8721e-05],\n",
              "        [2.7057e-14],\n",
              "        [9.9022e-01],\n",
              "        [1.0000e+00],\n",
              "        [9.9642e-01],\n",
              "        [9.8538e-03],\n",
              "        [1.0000e+00],\n",
              "        [9.8019e-01],\n",
              "        [1.0000e+00],\n",
              "        [6.9454e-13],\n",
              "        [1.2624e-01],\n",
              "        [3.0832e-02],\n",
              "        [9.9336e-01],\n",
              "        [9.3264e-01],\n",
              "        [1.8121e-01],\n",
              "        [3.3193e-01],\n",
              "        [9.9744e-01],\n",
              "        [9.7572e-01],\n",
              "        [9.9097e-01],\n",
              "        [4.7711e-01],\n",
              "        [9.9985e-01],\n",
              "        [5.9575e-01],\n",
              "        [9.5328e-01],\n",
              "        [9.1222e-01],\n",
              "        [3.4533e-15],\n",
              "        [9.9833e-01],\n",
              "        [3.6759e-01],\n",
              "        [9.9525e-01],\n",
              "        [3.1355e-11],\n",
              "        [8.3342e-20],\n",
              "        [1.1089e-01],\n",
              "        [8.7217e-01],\n",
              "        [9.9532e-01],\n",
              "        [9.9742e-01],\n",
              "        [1.9495e-03],\n",
              "        [2.0841e-03],\n",
              "        [9.5869e-01],\n",
              "        [1.0000e+00],\n",
              "        [9.8840e-01],\n",
              "        [9.5145e-01],\n",
              "        [1.0000e+00],\n",
              "        [4.3889e-01],\n",
              "        [9.9885e-01],\n",
              "        [1.5065e-05],\n",
              "        [9.8044e-01],\n",
              "        [1.0000e+00],\n",
              "        [1.0000e+00],\n",
              "        [2.5520e-03],\n",
              "        [6.6501e-01],\n",
              "        [9.9373e-01],\n",
              "        [1.0000e+00],\n",
              "        [4.2635e-01],\n",
              "        [6.9135e-02],\n",
              "        [1.5150e-07],\n",
              "        [9.9742e-01],\n",
              "        [9.2731e-01],\n",
              "        [8.4719e-02],\n",
              "        [8.1039e-01],\n",
              "        [1.0000e+00],\n",
              "        [2.1246e-01],\n",
              "        [9.8454e-01],\n",
              "        [1.1810e-01],\n",
              "        [1.0000e+00],\n",
              "        [9.3351e-01],\n",
              "        [9.9833e-01],\n",
              "        [1.5238e-12],\n",
              "        [2.3925e-14],\n",
              "        [3.7144e-04],\n",
              "        [9.6580e-01],\n",
              "        [3.6429e-03],\n",
              "        [1.5206e-02],\n",
              "        [1.6400e-06],\n",
              "        [1.4258e-16],\n",
              "        [9.9300e-01],\n",
              "        [8.2743e-01],\n",
              "        [2.7379e-05],\n",
              "        [9.8771e-01],\n",
              "        [1.8694e-08],\n",
              "        [9.8328e-01],\n",
              "        [8.6396e-01],\n",
              "        [2.7204e-02],\n",
              "        [1.7073e-08],\n",
              "        [9.9324e-01],\n",
              "        [9.9955e-01],\n",
              "        [9.8947e-01],\n",
              "        [9.8044e-01],\n",
              "        [9.0670e-09],\n",
              "        [9.9634e-01],\n",
              "        [5.0750e-10],\n",
              "        [1.0000e+00],\n",
              "        [9.8361e-01],\n",
              "        [7.8280e-03],\n",
              "        [6.7965e-01],\n",
              "        [3.3834e-07],\n",
              "        [3.9402e-17],\n",
              "        [1.0000e+00],\n",
              "        [9.1554e-01],\n",
              "        [8.9197e-01],\n",
              "        [8.6410e-01],\n",
              "        [6.5931e-05],\n",
              "        [2.5909e-04],\n",
              "        [9.5546e-02],\n",
              "        [2.3250e-06],\n",
              "        [9.9533e-01],\n",
              "        [4.4342e-01],\n",
              "        [8.4273e-04],\n",
              "        [8.4657e-01],\n",
              "        [1.0000e+00],\n",
              "        [9.9699e-01]], grad_fn=<SigmoidBackward0>)"
            ]
          },
          "metadata": {},
          "execution_count": 49
        }
      ]
    },
    {
      "cell_type": "code",
      "source": [
        "preds = np.array(preds> 0.5) #limiar\n",
        "preds"
      ],
      "metadata": {
        "colab": {
          "base_uri": "https://localhost:8080/"
        },
        "id": "8AePiUGJ3RIj",
        "outputId": "da537827-c61d-47d2-abdd-a61052281172"
      },
      "execution_count": 51,
      "outputs": [
        {
          "output_type": "execute_result",
          "data": {
            "text/plain": [
              "array([[ True],\n",
              "       [ True],\n",
              "       [False],\n",
              "       [ True],\n",
              "       [ True],\n",
              "       [False],\n",
              "       [False],\n",
              "       [ True],\n",
              "       [ True],\n",
              "       [ True],\n",
              "       [False],\n",
              "       [ True],\n",
              "       [ True],\n",
              "       [ True],\n",
              "       [False],\n",
              "       [False],\n",
              "       [False],\n",
              "       [ True],\n",
              "       [ True],\n",
              "       [False],\n",
              "       [False],\n",
              "       [ True],\n",
              "       [ True],\n",
              "       [ True],\n",
              "       [False],\n",
              "       [ True],\n",
              "       [ True],\n",
              "       [ True],\n",
              "       [ True],\n",
              "       [False],\n",
              "       [ True],\n",
              "       [False],\n",
              "       [ True],\n",
              "       [False],\n",
              "       [False],\n",
              "       [False],\n",
              "       [ True],\n",
              "       [ True],\n",
              "       [ True],\n",
              "       [False],\n",
              "       [False],\n",
              "       [ True],\n",
              "       [ True],\n",
              "       [ True],\n",
              "       [ True],\n",
              "       [ True],\n",
              "       [False],\n",
              "       [ True],\n",
              "       [False],\n",
              "       [ True],\n",
              "       [ True],\n",
              "       [ True],\n",
              "       [False],\n",
              "       [ True],\n",
              "       [ True],\n",
              "       [ True],\n",
              "       [False],\n",
              "       [False],\n",
              "       [False],\n",
              "       [ True],\n",
              "       [ True],\n",
              "       [False],\n",
              "       [ True],\n",
              "       [ True],\n",
              "       [False],\n",
              "       [ True],\n",
              "       [False],\n",
              "       [ True],\n",
              "       [ True],\n",
              "       [ True],\n",
              "       [False],\n",
              "       [False],\n",
              "       [False],\n",
              "       [ True],\n",
              "       [False],\n",
              "       [False],\n",
              "       [False],\n",
              "       [False],\n",
              "       [ True],\n",
              "       [ True],\n",
              "       [False],\n",
              "       [ True],\n",
              "       [False],\n",
              "       [ True],\n",
              "       [ True],\n",
              "       [False],\n",
              "       [False],\n",
              "       [ True],\n",
              "       [ True],\n",
              "       [ True],\n",
              "       [ True],\n",
              "       [False],\n",
              "       [ True],\n",
              "       [False],\n",
              "       [ True],\n",
              "       [ True],\n",
              "       [False],\n",
              "       [ True],\n",
              "       [False],\n",
              "       [False],\n",
              "       [ True],\n",
              "       [ True],\n",
              "       [ True],\n",
              "       [ True],\n",
              "       [False],\n",
              "       [False],\n",
              "       [False],\n",
              "       [False],\n",
              "       [ True],\n",
              "       [False],\n",
              "       [False],\n",
              "       [ True],\n",
              "       [ True],\n",
              "       [ True]])"
            ]
          },
          "metadata": {},
          "execution_count": 51
        }
      ]
    },
    {
      "cell_type": "code",
      "source": [
        "#evaluate\n",
        "acc = accuracy_score(classe_test, preds)\n",
        "acc"
      ],
      "metadata": {
        "colab": {
          "base_uri": "https://localhost:8080/"
        },
        "id": "lmt_PHh44GZV",
        "outputId": "4d4a78ec-4f62-4d48-9b02-b63b5b65a8d1"
      },
      "execution_count": 53,
      "outputs": [
        {
          "output_type": "execute_result",
          "data": {
            "text/plain": [
              "0.9035087719298246"
            ]
          },
          "metadata": {},
          "execution_count": 53
        }
      ]
    },
    {
      "cell_type": "code",
      "source": [
        "matriz = confusion_matrix(classe_test, preds)\n",
        "matriz"
      ],
      "metadata": {
        "colab": {
          "base_uri": "https://localhost:8080/"
        },
        "id": "GhX6tXTX4ddB",
        "outputId": "48b5a06a-9832-4c24-ce7d-4462fb4a99f9"
      },
      "execution_count": 54,
      "outputs": [
        {
          "output_type": "execute_result",
          "data": {
            "text/plain": [
              "array([[43,  6],\n",
              "       [ 5, 60]])"
            ]
          },
          "metadata": {},
          "execution_count": 54
        }
      ]
    },
    {
      "cell_type": "code",
      "source": [
        "sns.heatmap(matriz, annot=True);\n"
      ],
      "metadata": {
        "colab": {
          "base_uri": "https://localhost:8080/",
          "height": 269
        },
        "id": "aZ_5ibMX4mUo",
        "outputId": "15ad7a7f-f391-40dc-8ca1-dbd068bca584"
      },
      "execution_count": 55,
      "outputs": [
        {
          "output_type": "display_data",
          "data": {
            "text/plain": [
              "<Figure size 432x288 with 2 Axes>"
            ],
            "image/png": "[encoded data removed]"
          },
          "metadata": {
            "needs_background": "light"
          }
        }
      ]
    }
  ]
}